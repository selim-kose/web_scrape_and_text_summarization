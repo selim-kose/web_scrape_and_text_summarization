{
 "cells": [
  {
   "cell_type": "markdown",
   "metadata": {},
   "source": [
    "# News Extraction"
   ]
  },
  {
   "cell_type": "markdown",
   "metadata": {},
   "source": [
    "### Import Packages"
   ]
  },
  {
   "cell_type": "code",
   "execution_count": 39,
   "metadata": {},
   "outputs": [],
   "source": [
    "from bs4 import BeautifulSoup\n",
    "from requests import get"
   ]
  },
  {
   "cell_type": "markdown",
   "metadata": {},
   "source": [
    "### Creating a Function to Extract only Text from `<p>` Tags"
   ]
  },
  {
   "cell_type": "code",
   "execution_count": 40,
   "metadata": {},
   "outputs": [],
   "source": [
    "def get_only_text(url):\n",
    " \"\"\" \n",
    "  return the title and the text of the article\n",
    "  at the specified url\n",
    " \"\"\"\n",
    " page = get(url)\n",
    " soup = BeautifulSoup(page.content, \"html.parser\")\n",
    " text = ' '.join(map(lambda p: p.text, soup.find_all('p')))\n",
    " #text = soup.text\n",
    " title = ' '.join(soup.title.stripped_strings)\n",
    " return title , text    "
   ]
  },
  {
   "cell_type": "markdown",
   "metadata": {},
   "source": [
    "### Calling the function with the desired News URL"
   ]
  },
  {
   "cell_type": "code",
   "execution_count": 41,
   "metadata": {},
   "outputs": [],
   "source": [
    "text = get_only_text(\"https://en.wikinews.org/wiki/Football:_Italian_club_AC_Milan_sacks_Vincenzo_Montella_as_manager\")"
   ]
  },
  {
   "cell_type": "code",
   "execution_count": 43,
   "metadata": {},
   "outputs": [
    {
     "data": {
      "text/plain": [
       "('Football: Italian club AC Milan sacks Vincenzo Montella as manager - Wikinews, the free news source',\n",
       " \"Thursday, November 30, 2017\\xa0 On Monday, Italian football club AC Milan sacked manager Vincenzo Montella. Gennaro Gatusso, manager of AC Milan's youth team, was named as Manetella's successor.\\n Monetella's team started this season with winning ten out of twelve fixtures in all competitions. However, in fourteen Italian Serie A league matches played so far, Monetella's men won just six matches, losing six and drawing two matches. Having spent £205 million in the summer transfer window, AC Milan has won just 20 points in Serie A. They are seventh in the league table, and eighteen points behind the league leaders SSC Napoli.\\n The Milanese club named Gatusso as their new manager. Gatusso played for Milan from 1999 till 2013. As a player, Gatusso has won two Serie A titles and two UEFA Champions League titles with AC Milan. Since 2013, AC Milan has not finished in the top three spots in the league table.\\n Milan has qualified for this year's UEFA Europa League's knockouut phase. Montella's last match for the Rossoneri ended in a 0–0 draw against Torino FC at home. Milan has not scored in the last four league matches at home.\\n \\n Have an opinion on this story? Share it!\\n Share this:\\xa0\\n\\n\\n\\n\\n\\n \\n This page is archived, and is no longer publicly editable.\\n Got a correction? Add the template {{editprotected}} to the talk page along with your corrections, and it will be brought to the attention of the administrators.\\n Please note that due to our archival policy, we will not alter or update the content of articles that are archived, but will only accept requests to make grammatical and formatting corrections.\\n Note that some listed sources or external links may no longer be available online due to age.\\n Got a correction? Add the template {{editprotected}} to the talk page along with your corrections, and it will be brought to the attention of the administrators.\\n Please note that due to our archival policy, we will not alter or update the content of articles that are archived, but will only accept requests to make grammatical and formatting corrections.\\n\")"
      ]
     },
     "execution_count": 43,
     "metadata": {},
     "output_type": "execute_result"
    }
   ],
   "source": [
    "text"
   ]
  },
  {
   "cell_type": "markdown",
   "metadata": {},
   "source": [
    "### Number of Words - Original Text"
   ]
  },
  {
   "cell_type": "code",
   "execution_count": 44,
   "metadata": {},
   "outputs": [],
   "source": [
    "# Print page titel"
   ]
  },
  {
   "cell_type": "code",
   "execution_count": 45,
   "metadata": {},
   "outputs": [
    {
     "name": "stdout",
     "output_type": "stream",
     "text": [
      "Football: Italian club AC Milan sacks Vincenzo Montella as manager - Wikinews, the free news source\n"
     ]
    }
   ],
   "source": [
    "print(text[0])"
   ]
  },
  {
   "cell_type": "code",
   "execution_count": 46,
   "metadata": {},
   "outputs": [],
   "source": [
    "# print number of words from <p> tags"
   ]
  },
  {
   "cell_type": "code",
   "execution_count": 47,
   "metadata": {},
   "outputs": [
    {
     "data": {
      "text/plain": [
       "345"
      ]
     },
     "execution_count": 47,
     "metadata": {},
     "output_type": "execute_result"
    }
   ],
   "source": [
    "len(str.split(text[1]))"
   ]
  },
  {
   "cell_type": "markdown",
   "metadata": {},
   "source": [
    "# Summarization"
   ]
  },
  {
   "cell_type": "code",
   "execution_count": 48,
   "metadata": {},
   "outputs": [],
   "source": [
    "from gensim.summarization.summarizer import summarize\n",
    "from gensim.summarization import keywords"
   ]
  },
  {
   "cell_type": "code",
   "execution_count": 49,
   "metadata": {},
   "outputs": [],
   "source": [
    "from transformers import pipeline\n",
    "\n",
    "# Initialize the summarization pipeline with a specific model\n",
    "model_name = \"sshleifer/distilbart-cnn-12-6\"\n",
    "summarizer = pipeline(\"summarization\", model=model_name)\n",
    "\n",
    "# Generate the summary\n",
    "summary = summarizer(text[1], max_length=100, min_length=50, do_sample=False)\n"
   ]
  },
  {
   "cell_type": "code",
   "execution_count": 50,
   "metadata": {},
   "outputs": [
    {
     "data": {
      "text/plain": [
       "[{'summary_text': \" AC Milan sacked manager Vincenzo Montella on Monday . Gennaro Gatusso, manager of AC Milan's youth team, named as new manager . Milan have won just six of their 14 Serie A league matches so far this season . The Rossoneri are currently seventh in the league table .\"}]"
      ]
     },
     "execution_count": 50,
     "metadata": {},
     "output_type": "execute_result"
    }
   ],
   "source": [
    "summary"
   ]
  },
  {
   "cell_type": "markdown",
   "metadata": {},
   "source": [
    "### Printing the Summarized Text"
   ]
  },
  {
   "cell_type": "code",
   "execution_count": 58,
   "metadata": {},
   "outputs": [
    {
     "name": "stdout",
     "output_type": "stream",
     "text": [
      "Title : Football: Italian club AC Milan sacks Vincenzo Montella as manager - Wikinews, the free news source\n",
      "Summary : \n",
      "{'summary_text': \" AC Milan sacked manager Vincenzo Montella on Monday . Gennaro Gatusso, manager of AC Milan's youth team, named as new manager . Milan have won just six of their 14 Serie A league matches so far this season . The Rossoneri are currently seventh in the league table .\"}\n"
     ]
    }
   ],
   "source": [
    "print (\"Title : \" + text[0])\n",
    "print (\"Summary : \")\n",
    "print (summary[0])"
   ]
  }
 ],
 "metadata": {
  "kernelspec": {
   "display_name": "Python 3 (ipykernel)",
   "language": "python",
   "name": "python3"
  },
  "language_info": {
   "codemirror_mode": {
    "name": "ipython",
    "version": 3
   },
   "file_extension": ".py",
   "mimetype": "text/x-python",
   "name": "python",
   "nbconvert_exporter": "python",
   "pygments_lexer": "ipython3",
   "version": "3.12.1"
  }
 },
 "nbformat": 4,
 "nbformat_minor": 4
}
